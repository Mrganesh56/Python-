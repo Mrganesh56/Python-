{
 "cells": [
  {
   "cell_type": "code",
   "execution_count": 1,
   "metadata": {},
   "outputs": [
    {
     "name": "stdout",
     "output_type": "stream",
     "text": [
      "13\n"
     ]
    }
   ],
   "source": [
    "\n",
    "#control flow statement \n",
    "#if \n",
    "#if-else\n",
    "#nested if-else \n",
    "#for loop \n",
    "#while loop "
   ]
  },
  {
   "cell_type": "code",
   "execution_count": 5,
   "metadata": {},
   "outputs": [
    {
     "name": "stdout",
     "output_type": "stream",
     "text": [
      "condition is true\n",
      "Work done go and do another\n"
     ]
    }
   ],
   "source": [
    "if 10>10 :\n",
    "    print(\" condition is flase\")\n",
    "else:\n",
    "    print(\"condition is true\")\n",
    "print('Work done go and do another')"
   ]
  },
  {
   "cell_type": "code",
   "execution_count": 10,
   "metadata": {},
   "outputs": [
    {
     "name": "stdout",
     "output_type": "stream",
     "text": [
      "g is present\n"
     ]
    }
   ],
   "source": [
    "name=\"gnesh\"\n",
    "if 'a' in name :\n",
    "    print(\"a is present\")\n",
    "elif 'g' in name:\n",
    "    print('g is present')\n",
    "else :\n",
    "    print(\"not present\")"
   ]
  },
  {
   "cell_type": "code",
   "execution_count": 12,
   "metadata": {},
   "outputs": [
    {
     "name": "stdout",
     "output_type": "stream",
     "text": [
      "u are 18 u can vote vote\n"
     ]
    }
   ],
   "source": [
    "a=18\n",
    "if a>18:\n",
    "    print(\"u can vote\")\n",
    "elif a==18:\n",
    "    print(\"u are 18 u can vote vote\")\n",
    "else:\n",
    "    print(\"u can not vote\")"
   ]
  },
  {
   "cell_type": "code",
   "execution_count": 21,
   "metadata": {},
   "outputs": [
    {
     "name": "stdout",
     "output_type": "stream",
     "text": [
      "5\n",
      "<class 'int'>\n"
     ]
    }
   ],
   "source": [
    "#take input \n",
    "#print(\"Enter the number\")\n",
    "#a = input()\n",
    "#print(a)\n",
    "\n",
    "#type casting\n",
    "b=input(\"Enter the number\")\n",
    "c= int(b)\n",
    "print(c)\n",
    "print(type(c))\n",
    "\n"
   ]
  },
  {
   "cell_type": "code",
   "execution_count": 24,
   "metadata": {},
   "outputs": [],
   "source": [
    "a=input(\"enter first number\")\n",
    "b=input(\"enter second number\")\n",
    "c=input(\"Enter third number\")\n",
    "\n",
    "if a>b:\n",
    "    if a>c:\n",
    "        print(\"A is greaater\")\n",
    "elif b>a:\n",
    "    if b>c:\n",
    "        print(\"b is greter\")\n",
    "else :\n",
    "    print(\"c is greater then a and b\")\n"
   ]
  }
 ],
 "metadata": {
  "kernelspec": {
   "display_name": "Python 3",
   "language": "python",
   "name": "python3"
  },
  "language_info": {
   "codemirror_mode": {
    "name": "ipython",
    "version": 3
   },
   "file_extension": ".py",
   "mimetype": "text/x-python",
   "name": "python",
   "nbconvert_exporter": "python",
   "pygments_lexer": "ipython3",
   "version": "3.12.3"
  }
 },
 "nbformat": 4,
 "nbformat_minor": 2
}
