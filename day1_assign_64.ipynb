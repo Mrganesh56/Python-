{
 "cells": [
  {
   "cell_type": "code",
   "execution_count": 2,
   "metadata": {},
   "outputs": [
    {
     "name": "stdout",
     "output_type": "stream",
     "text": [
      "Our first number is: 9\n",
      "Our second number is: 2\n",
      "Floor divison of 2 number's : 4\n",
      "Thanks for using, you can use again it as a calculator!\n"
     ]
    }
   ],
   "source": [
    "#Basic calculator\n",
    "\n",
    "operation=int(input(\"Enter opertaion to be perform: 1.Addition 2.Substraction 3.Multi 4. divison 5. exponentioal 6. floor divison 7.Modulus\"))\n",
    "\n",
    "\n",
    "num1=int(input(\"Enter first number:\"))\n",
    "num2=int(input(\"Enter second number:\"))\n",
    "\n",
    "print(\"Our first number is:\",num1)\n",
    "print(\"Our second number is:\",num2)\n",
    "\n",
    "\n",
    "if operation==1:\n",
    "    sum=num1+num2\n",
    "    print(\"Addition of 2 number's are:\",sum)\n",
    "elif operation==2:\n",
    "    sub=num1-num2\n",
    "    print(\"Substraction of 2 number's:\",sub)\n",
    "elif operation==3:\n",
    "    mul=num1*num2\n",
    "    print(\"Multiplication of 2 number's:\",mul)\n",
    "elif operation==4:\n",
    "    div=num1/num2\n",
    "    print(\"Divison of 2 number's are:\",div)\n",
    "elif operation==5:\n",
    "    expo=num1**num2\n",
    "    print(\"Exponentiation of 2 number's :\",expo)\n",
    "elif operation==6:\n",
    "    floor_div=num1//num2\n",
    "    print(\"Floor divison of 2 number's :\",floor_div)\n",
    "elif operation==7:\n",
    "    Modul=num1 % num2\n",
    "    print(\"Modules of 2 number's are:\",Modul)\n",
    "else:\n",
    "    print(\"Please Enter a valid Number for operation\")\n",
    "\n",
    "print(\"Thanks for using, you can use again it as a calculator!\")\n"
   ]
  },
  {
   "cell_type": "code",
   "execution_count": 1,
   "metadata": {},
   "outputs": [
    {
     "name": "stdout",
     "output_type": "stream",
     "text": [
      "Temperature to convert is: 60.0\n",
      "Temperature after convertion for Fehrenheit to celsiuc: 15.555555555555555\n",
      "Thanks for using, you can use again!\n"
     ]
    }
   ],
   "source": [
    "#Convert  Celsius to Fahrenheit or Fahrenheit to Celsius\n",
    "\n",
    "temperature=float(input(\"Enter the Temperature to convert:\"))\n",
    "\n",
    "convert=int(input(\"Press 1 : Celsius to Fahrenheit , Press 2 : Fahrenheit to Celsius\"))\n",
    "\n",
    "print(\"Temperature to convert is:\",temperature)\n",
    "\n",
    "if convert==1:\n",
    "    cel_to_fah=(temperature  * 9/5)+32\n",
    "    print(\"Temperature After converstion form the Celsius to Fahrenheit:\",cel_to_fah)\n",
    "\n",
    "elif convert==2:\n",
    "    feh_to_cel=(temperature - 32)*5/9\n",
    "    print(\"Temperature after convertion for Fehrenheit to celsiuc:\",feh_to_cel)\n",
    "\n",
    "else :\n",
    "    print(\"There's no opertion Enter a valid opertion number! \")\n",
    "\n",
    "print(\"Thanks for using, you can use again!\")"
   ]
  },
  {
   "cell_type": "code",
   "execution_count": 2,
   "metadata": {},
   "outputs": [
    {
     "name": "stdout",
     "output_type": "stream",
     "text": [
      "Enter the string\n",
      "string after capitalization : Ganesh Bhogendra Mishra\n"
     ]
    }
   ],
   "source": [
    "# take input and capitalize first charcter of each word\n",
    "\n",
    "print(\"Enter the string\")\n",
    "str=input()\n",
    "str=str.title()\n",
    "print(\"string after capitalization :\",str)"
   ]
  },
  {
   "cell_type": "code",
   "execution_count": 4,
   "metadata": {},
   "outputs": [
    {
     "name": "stdout",
     "output_type": "stream",
     "text": [
      "Enter the string to convert\n",
      "After capitalize string : Ganesh mishra\n"
     ]
    }
   ],
   "source": [
    "print(\"Enter the string to convert\")\n",
    "str=input()\n",
    "str=str.capitalize()\n",
    "print(\"After capitalize string :\",str)"
   ]
  },
  {
   "cell_type": "code",
   "execution_count": 7,
   "metadata": {},
   "outputs": [
    {
     "name": "stdout",
     "output_type": "stream",
     "text": [
      "Enter the string to convert\n",
      "After capitalize string : ganesh msihra ji hfj\n"
     ]
    }
   ],
   "source": [
    "print(\"Enter the string to convert\")\n",
    "str=input()\n",
    "str=str.casefold()  #it is used to make all the string in lower case d\n",
    "print(\"After capitalize string :\",str)"
   ]
  },
  {
   "cell_type": "code",
   "execution_count": 8,
   "metadata": {},
   "outputs": [
    {
     "name": "stdout",
     "output_type": "stream",
     "text": [
      "Enter the string to convert\n",
      "After capitalize string : 0\n"
     ]
    }
   ],
   "source": [
    "print(\"Enter the string to convert\")\n",
    "str=input()\n",
    "str=str.count(str,2,7)\n",
    "print(\"After capitalize string :\",str)"
   ]
  }
 ],
 "metadata": {
  "kernelspec": {
   "display_name": "Python 3",
   "language": "python",
   "name": "python3"
  },
  "language_info": {
   "codemirror_mode": {
    "name": "ipython",
    "version": 3
   },
   "file_extension": ".py",
   "mimetype": "text/x-python",
   "name": "python",
   "nbconvert_exporter": "python",
   "pygments_lexer": "ipython3",
   "version": "3.12.3"
  }
 },
 "nbformat": 4,
 "nbformat_minor": 2
}
