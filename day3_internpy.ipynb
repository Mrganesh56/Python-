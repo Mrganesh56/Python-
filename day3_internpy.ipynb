{
 "cells": [
  {
   "cell_type": "code",
   "execution_count": null,
   "metadata": {},
   "outputs": [],
   "source": []
  },
  {
   "cell_type": "code",
   "execution_count": 7,
   "metadata": {},
   "outputs": [
    {
     "name": "stdout",
     "output_type": "stream",
     "text": [
      "['ganesh', 'msihra']\n",
      "Ganesh  Msihra  "
     ]
    }
   ],
   "source": [
    "str= input(\"Enter the string:\")\n",
    "lst = str.split()   # split ho gaya string of vo ek list me chala gaya \n",
    "print(lst)          # fir vo list print hoga\n",
    "for i in range(len(lst)):  # isme vo list slipt hua list print hoga ek ek karke \n",
    "    print(lst[i].capitalize(), end=\"  \")   # vo har ek list ke word print hoga with first word capital \n"
   ]
  },
  {
   "cell_type": "code",
   "execution_count": 9,
   "metadata": {},
   "outputs": [
    {
     "name": "stdout",
     "output_type": "stream",
     "text": [
      "Ganesh\n",
      "Msiihra\n"
     ]
    }
   ],
   "source": [
    "str=input(\"enter string\")\n",
    "for i in range(0,len(str.split())):\n",
    "    print(str.split()[i].capitalize())"
   ]
  },
  {
   "cell_type": "code",
   "execution_count": 20,
   "metadata": {},
   "outputs": [
    {
     "data": {
      "text/plain": [
       "'hsena'"
      ]
     },
     "execution_count": 20,
     "metadata": {},
     "output_type": "execute_result"
    }
   ],
   "source": [
    "name='ganesh'\n",
    "name[5:0:-1]\n"
   ]
  },
  {
   "cell_type": "code",
   "execution_count": 23,
   "metadata": {},
   "outputs": [
    {
     "name": "stdout",
     "output_type": "stream",
     "text": [
      "not same\n"
     ]
    }
   ],
   "source": [
    "lst=[1,2,3,4]\n",
    "lst1=[1,2,3,4]\n",
    "\n",
    "#comparision opertaor \n",
    "lst==lst1\n",
    "\n",
    "#identity operator \n",
    "\n",
    "if lst is lst1:   #values are same but memory location is different\n",
    "    print('samme')\n",
    "else:\n",
    "    print('not same')"
   ]
  },
  {
   "cell_type": "code",
   "execution_count": 36,
   "metadata": {},
   "outputs": [
    {
     "name": "stdout",
     "output_type": "stream",
     "text": [
      "[1, 2, 3, 4, 'ganesh', 5]\n",
      "[1, 2, 3, 4, 'ganesh', 5, [10, 20, 30, 40, 50]]\n",
      "[10, 20, 30, 40, 50]\n"
     ]
    }
   ],
   "source": [
    "# funtions of list \n",
    "\n",
    "lst = [1,2,3,4,'ganesh']\n",
    "lst.append(5)   #it takes one argument and insert that argument at the last of the list \n",
    "print(lst)\n",
    "lst.append([10,20,30,40,50])  # ye list ko as a single arument thought karega\n",
    "print(lst)\n",
    "print(lst[6])"
   ]
  },
  {
   "cell_type": "code",
   "execution_count": 42,
   "metadata": {},
   "outputs": [
    {
     "name": "stdout",
     "output_type": "stream",
     "text": [
      "[[1, 2, 3], [4, 5, 6], [7, 8, 9]]\n",
      "[[1, 2, 3, [11, 12, 13]], [4, 5, 6], [7, 8, 9]]\n"
     ]
    },
    {
     "data": {
      "text/plain": [
       "13"
      ]
     },
     "execution_count": 42,
     "metadata": {},
     "output_type": "execute_result"
    }
   ],
   "source": [
    "#adding a matrix at the specific position of the matrix\n",
    "\n",
    "lst=[]\n",
    "lst.append([1,2,3])\n",
    "lst.append([4,5,6])\n",
    "lst.append([7,8,9])\n",
    "print(lst)\n",
    "\n",
    "lst[0].append([11,12,13])\n",
    "print(lst)\n",
    "\n",
    "\n",
    "lst[0][3][2]   # insert index of particular value \n"
   ]
  },
  {
   "cell_type": "code",
   "execution_count": 45,
   "metadata": {},
   "outputs": [
    {
     "data": {
      "text/plain": [
       "[[1, 2, 3], [4, 5, 6], [7, 8, 9]]"
      ]
     },
     "execution_count": 45,
     "metadata": {},
     "output_type": "execute_result"
    }
   ],
   "source": [
    "# create the 3d matirx \n",
    "lst=[]\n",
    "lst.append([1,2,3]) \n",
    "lst.append([4,5,6])\n",
    "lst.append([7,8,9])\n",
    "lst"
   ]
  },
  {
   "cell_type": "code",
   "execution_count": 28,
   "metadata": {},
   "outputs": [
    {
     "data": {
      "text/plain": [
       "[1, 2, 3, 4, 5, 6, 6, 7]"
      ]
     },
     "execution_count": 28,
     "metadata": {},
     "output_type": "execute_result"
    }
   ],
   "source": [
    "lst=[1,2,3,4]\n",
    "lst1=[5,6,6,7]\n",
    "\n",
    "lst.extend(lst1)  # it addes two list and store the addition in the first list\n",
    "\n",
    "lst\n"
   ]
  },
  {
   "cell_type": "code",
   "execution_count": 32,
   "metadata": {},
   "outputs": [
    {
     "data": {
      "text/plain": [
       "['abc', 1, 2, 3, 4, 'ganesh']"
      ]
     },
     "execution_count": 32,
     "metadata": {},
     "output_type": "execute_result"
    }
   ],
   "source": [
    "lst = [1,2,3,4,'ganesh']\n",
    "lst.insert(0,'abc')  # insert the element at the specific index\n",
    "lst"
   ]
  },
  {
   "cell_type": "code",
   "execution_count": 48,
   "metadata": {},
   "outputs": [
    {
     "name": "stdout",
     "output_type": "stream",
     "text": [
      "1\n",
      "ganesh\n",
      "[2, 3, 4]\n"
     ]
    }
   ],
   "source": [
    "ls= [1,2,3,4,'ganesh']\n",
    "print(ls.pop(0) )     # it delete the elements from the list form specific index if index is given and return that element\n",
    "print(ls.pop())      # it will delete element at the last in the list \n",
    "print(ls)            # it will return the list after deletion \n"
   ]
  },
  {
   "cell_type": "code",
   "execution_count": 50,
   "metadata": {},
   "outputs": [
    {
     "name": "stdout",
     "output_type": "stream",
     "text": [
      "[1, 2, 3, 4, 'ganesh']\n"
     ]
    }
   ],
   "source": [
    "ls= [1,2,3,4,'ganesh'] \n",
    "print(ls)\n",
    "del ls   # it will delete the list \n"
   ]
  },
  {
   "cell_type": "code",
   "execution_count": 51,
   "metadata": {},
   "outputs": [
    {
     "name": "stdout",
     "output_type": "stream",
     "text": [
      "4\n"
     ]
    }
   ],
   "source": [
    "ls= [1,2,3,4,'ganesh'] \n",
    "print(ls.index('ganesh'))  # it will return the index of specific element from the list which is given "
   ]
  },
  {
   "cell_type": "code",
   "execution_count": 64,
   "metadata": {},
   "outputs": [
    {
     "name": "stdout",
     "output_type": "stream",
     "text": [
      "[7, 6, 5, 3, 2, 1]\n"
     ]
    }
   ],
   "source": [
    "ls= [5,6,3,2,7,1] # sort function will sort the list in assending order  \n",
    "                # sort have defeult parameter called \"reverse \"which is defult flase if we change that in true is will sort in desending # # order  \n",
    "\n",
    "\n",
    "ls.sort(reverse=True)  \n",
    "print(ls)\n",
    "\n",
    "\n"
   ]
  },
  {
   "cell_type": "code",
   "execution_count": 69,
   "metadata": {},
   "outputs": [
    {
     "data": {
      "text/plain": [
       "[1, 2, 3, 3, 4, 5, 'ganesh']"
      ]
     },
     "execution_count": 69,
     "metadata": {},
     "output_type": "execute_result"
    }
   ],
   "source": [
    "ls= [1,2,3,4,3,4,5,'ganesh'] \n",
    "ls.remove(4) # it will remove the value form the list and we have to give value in the parameter\n",
    "ls"
   ]
  },
  {
   "cell_type": "code",
   "execution_count": 71,
   "metadata": {},
   "outputs": [
    {
     "data": {
      "text/plain": [
       "['ganesh', 4, 3, 2, 1]"
      ]
     },
     "execution_count": 71,
     "metadata": {},
     "output_type": "execute_result"
    }
   ],
   "source": [
    "ls= [1,2,3,4,'ganesh'] \n",
    "ls.reverse()   # it will reverse the list \n",
    "ls"
   ]
  },
  {
   "cell_type": "code",
   "execution_count": 74,
   "metadata": {},
   "outputs": [
    {
     "data": {
      "text/plain": [
       "15"
      ]
     },
     "execution_count": 74,
     "metadata": {},
     "output_type": "execute_result"
    }
   ],
   "source": [
    "ls=[1,2,3,4,5]\n",
    "sum(ls)   # it will add all the elements of the list only integer !\n"
   ]
  },
  {
   "cell_type": "code",
   "execution_count": 78,
   "metadata": {},
   "outputs": [
    {
     "name": "stdout",
     "output_type": "stream",
     "text": [
      "3\n",
      "2\n"
     ]
    }
   ],
   "source": [
    "ls=['a','b,','r','a','r','a']   # it will return that how many times a element is present in the list \n",
    "print(ls.count('a'))\n",
    "\n",
    "str=\"ganeshmishra\"\n",
    "print(str.count('s'))\n"
   ]
  },
  {
   "cell_type": "code",
   "execution_count": 79,
   "metadata": {},
   "outputs": [
    {
     "data": {
      "text/plain": [
       "[]"
      ]
     },
     "execution_count": 79,
     "metadata": {},
     "output_type": "execute_result"
    }
   ],
   "source": [
    "ls=['a','b,','r','a','r','a']\n",
    "ls.clear()  # it will clear the list and return empty list \n",
    "ls"
   ]
  },
  {
   "cell_type": "code",
   "execution_count": 82,
   "metadata": {},
   "outputs": [
    {
     "name": "stdout",
     "output_type": "stream",
     "text": [
      "[1, 2, 3, 4, 5]\n",
      "[1, 2, 3, 4, 5]\n"
     ]
    },
    {
     "data": {
      "text/plain": [
       "False"
      ]
     },
     "execution_count": 82,
     "metadata": {},
     "output_type": "execute_result"
    }
   ],
   "source": [
    "ls=[1,2,3,4,5]\n",
    "ls2=ls.copy()    # it will copy content of 1 list to another list \n",
    "print(ls)\n",
    "print(ls2)\n",
    "\n",
    "ls==lst1\n"
   ]
  },
  {
   "cell_type": "code",
   "execution_count": 90,
   "metadata": {},
   "outputs": [
    {
     "data": {
      "text/plain": [
       "[2, 4, 6, 8, 10, 12, 14, 16, 18, 20]"
      ]
     },
     "execution_count": 90,
     "metadata": {},
     "output_type": "execute_result"
    }
   ],
   "source": [
    "lst=[]\n",
    "for i in range(1,21):\n",
    "   if(i%2==0):\n",
    "      lst.append(i)\n",
    "lst\n",
    "        \n",
    "        \n"
   ]
  },
  {
   "cell_type": "code",
   "execution_count": 92,
   "metadata": {},
   "outputs": [
    {
     "name": "stdout",
     "output_type": "stream",
     "text": [
      "Hello! 👋🏻👋🏻\n"
     ]
    }
   ],
   "source": [
    "print(\"Hello! 👋🏻👋🏻\")"
   ]
  },
  {
   "cell_type": "code",
   "execution_count": 105,
   "metadata": {},
   "outputs": [
    {
     "name": "stdout",
     "output_type": "stream",
     "text": [
      "{1, 2, 3, 4, 5, 6, 7, 8, 9, 10, 11, 12, 13, 14, 15, 16, 17, 18, 19, 20}\n"
     ]
    }
   ],
   "source": [
    "# list comprehension \n",
    "# list = { variable for variable in range(start, end )}\n",
    "\n"
   ]
  },
  {
   "cell_type": "code",
   "execution_count": 107,
   "metadata": {},
   "outputs": [
    {
     "name": "stdout",
     "output_type": "stream",
     "text": [
      "[20, 19, 18, 17, 16, 15, 14, 13, 12, 11, 10, 9, 8, 7, 6, 5, 4, 3, 2, 1]\n"
     ]
    }
   ],
   "source": [
    "ls = [i for i in range(20,0,-1)]\n",
    "print(ls)"
   ]
  },
  {
   "cell_type": "code",
   "execution_count": 122,
   "metadata": {},
   "outputs": [
    {
     "ename": "TypeError",
     "evalue": "'str' object is not callable",
     "output_type": "error",
     "traceback": [
      "\u001b[1;31m---------------------------------------------------------------------------\u001b[0m",
      "\u001b[1;31mTypeError\u001b[0m                                 Traceback (most recent call last)",
      "Cell \u001b[1;32mIn[122], line 2\u001b[0m\n\u001b[0;32m      1\u001b[0m \u001b[38;5;28;01mdel\u001b[39;00m ls\n\u001b[1;32m----> 2\u001b[0m ls\u001b[38;5;241m=\u001b[39m[\u001b[38;5;28;43mstr\u001b[39;49m\u001b[43m(\u001b[49m\u001b[43mi\u001b[49m\u001b[43m)\u001b[49m \u001b[38;5;28;01mfor\u001b[39;00m i \u001b[38;5;129;01min\u001b[39;00m \u001b[38;5;28mrange\u001b[39m(\u001b[38;5;241m20\u001b[39m)]\n\u001b[0;32m      3\u001b[0m ls\n",
      "\u001b[1;31mTypeError\u001b[0m: 'str' object is not callable"
     ]
    }
   ],
   "source": [
    "del ls\n",
    "ls=[str(i) for i in range(20)]\n",
    "ls"
   ]
  },
  {
   "cell_type": "code",
   "execution_count": 126,
   "metadata": {},
   "outputs": [
    {
     "data": {
      "text/plain": [
       "[0, 2, 4, 6, 8, 10, 12, 14, 16, 18, 20]"
      ]
     },
     "execution_count": 126,
     "metadata": {},
     "output_type": "execute_result"
    }
   ],
   "source": [
    "# take start , end and step as input from the user and print using list comprehension \n",
    "\n",
    "start=int(input(\"Enter the start\"))\n",
    "end=int(input(\"Enter the end\"))\n",
    "step=int(input(\"Enter the step\"))\n",
    "\n",
    "lst=[i for i in range(start,end,step)]\n",
    "lst"
   ]
  },
  {
   "cell_type": "code",
   "execution_count": null,
   "metadata": {},
   "outputs": [],
   "source": []
  }
 ],
 "metadata": {
  "kernelspec": {
   "display_name": "Python 3",
   "language": "python",
   "name": "python3"
  },
  "language_info": {
   "codemirror_mode": {
    "name": "ipython",
    "version": 3
   },
   "file_extension": ".py",
   "mimetype": "text/x-python",
   "name": "python",
   "nbconvert_exporter": "python",
   "pygments_lexer": "ipython3",
   "version": "3.12.3"
  }
 },
 "nbformat": 4,
 "nbformat_minor": 2
}
